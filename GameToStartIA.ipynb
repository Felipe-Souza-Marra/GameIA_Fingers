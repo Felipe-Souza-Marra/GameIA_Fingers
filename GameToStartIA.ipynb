{
  "nbformat": 4,
  "nbformat_minor": 0,
  "metadata": {
    "colab": {
      "provenance": [],
      "collapsed_sections": [],
      "include_colab_link": true
    },
    "kernelspec": {
      "name": "python3",
      "display_name": "Python 3"
    },
    "language_info": {
      "name": "python"
    }
  },
  "cells": [
    {
      "cell_type": "markdown",
      "metadata": {
        "id": "view-in-github",
        "colab_type": "text"
      },
      "source": [
        "<a href=\"https://colab.research.google.com/github/Felipe-Souza-Marra/GameIA_Fingers/blob/main/GameToStartIA.ipynb\" target=\"_parent\"><img src=\"https://colab.research.google.com/assets/colab-badge.svg\" alt=\"Open In Colab\"/></a>"
      ]
    },
    {
      "cell_type": "markdown",
      "source": [
        "# Ten fingers"
      ],
      "metadata": {
        "id": "MmLWuPQL4QeO"
      }
    },
    {
      "cell_type": "markdown",
      "source": [
        "# Objetivo\n",
        "\n",
        "* Consiste em zerar os dedos das duas mões do adversário.\n",
        "\n",
        "# Regras\n",
        "\n",
        "* O jogo começa com dois jogadores que suas mões com apenas um dedo inicialmente.\n",
        "* No máximo 5 jogadas específicas que contém sua condições também:\n",
        " * 4 jogadas vão consistir em passar a quantidade de dedos que você possui em uma mão para outra do adversário sem diminuir a sua.\n",
        " * Se uma mão estiver zerada ela não poderá ser usada, ficando com apenas 2 jogadas.\n",
        " * E a última jogada vai consistir em dividir um valor par do dedos de uma mão para sua outra mão que precisa estar vazia(Com 0 dedos).\n",
        "\n",
        "\n"
      ],
      "metadata": {
        "id": "rIiPNrV2MZgJ"
      }
    },
    {
      "cell_type": "code",
      "source": [
        "# From\n",
        "from enum import Enum\n",
        "\n",
        "# Import\n",
        "import numpy as np\n",
        "import os"
      ],
      "metadata": {
        "id": "gxAV33hoUgM3"
      },
      "execution_count": 4,
      "outputs": []
    },
    {
      "cell_type": "code",
      "source": [
        "class HandType(Enum):\n",
        "  RIGHT = \"right\"\n",
        "  LEFT = \"left\" \n",
        "\n",
        "class ActionType(Enum):\n",
        "  PLACE = \"place\"\n",
        "  SPLIT = \"split\"\n",
        "\n",
        "class StatusHands(Enum):\n",
        "  INGAME = \"inGame\"\n",
        "  LOST = \"lost\""
      ],
      "metadata": {
        "id": "A6Kox0wHP7l5"
      },
      "execution_count": 5,
      "outputs": []
    },
    {
      "cell_type": "code",
      "source": [
        "class Hand(object):\n",
        "  def __init__(self, handType: HandType, fingers: int = 1):\n",
        "    self._fingers = fingers\n",
        "    self.__HandType = handType\n",
        "\n",
        "  def _checkFingers(self):\n",
        "    if self._fingers >= 5:\n",
        "      self._fingers -= 5\n",
        "\n",
        "  def _canUseHand(self):\n",
        "    if self._fingers == 0:\n",
        "      return False\n",
        "    return True\n",
        "\n",
        "testHand = Hand(HandType.LEFT)"
      ],
      "metadata": {
        "id": "EFtMzn1SFYq4"
      },
      "execution_count": 6,
      "outputs": []
    },
    {
      "cell_type": "code",
      "source": [
        "class Action(object):\n",
        "  def __init__(self, action: ActionType, fromHand: Hand, toHand: Hand):\n",
        "    self.__actionType = action\n",
        "    self.__fromHand = fromHand\n",
        "    self.__toHand = toHand\n",
        "\n",
        "  def _realize(self):\n",
        "    if self.__actionType == ActionType.PLACE:\n",
        "      self.__toHand._fingers += self.__fromHand._fingers\n",
        "      self.__toHand._checkFingers()\n",
        "    else:\n",
        "      self.__toHand._fingers = int(self.__fromHand._fingers / 2)\n",
        "      self.__fromHand._fingers = int(self.__fromHand._fingers / 2)"
      ],
      "metadata": {
        "id": "xf0hUAtrYiLM"
      },
      "execution_count": 7,
      "outputs": []
    },
    {
      "cell_type": "code",
      "source": [
        "class Player(object):\n",
        "  def __init__(self):\n",
        "    self._leftHand = Hand(HandType.LEFT)\n",
        "    self._rightHand = Hand(HandType.RIGHT)\n",
        "\n",
        "  def _canSplit(self):\n",
        "    if self._leftHand._fingers > 0 and self._rightHand._fingers > 0:\n",
        "      return False\n",
        "    elif self._leftHand._fingers != 0 and self._leftHand._fingers % 2 != 0:\n",
        "      return False\n",
        "    elif self._rightHand._fingers != 0 and self._rightHand._fingers % 2 != 0:\n",
        "      return False\n",
        "    return True\n",
        "\n",
        "  def _statusFromHands(self):\n",
        "    if self._leftHand._fingers > 0 or self._rightHand._fingers > 0:\n",
        "      return StatusHands.INGAME\n",
        "    return StatusHands.LOST\n",
        "\n",
        "  def _putOnHand(self, action: Action):\n",
        "    action._realize()\n",
        "\n",
        "testPlayer = Player()"
      ],
      "metadata": {
        "id": "zEqIKKsd7pFw"
      },
      "execution_count": 8,
      "outputs": []
    },
    {
      "cell_type": "code",
      "execution_count": 11,
      "metadata": {
        "id": "d3ueP8qC2Vbz",
        "colab": {
          "base_uri": "https://localhost:8080/",
          "height": 868
        },
        "outputId": "32be3787-7a51-4947-b00e-4738dd5d87e7"
      },
      "outputs": [
        {
          "output_type": "stream",
          "name": "stdout",
          "text": [
            "\n",
            "1<------------>1\n",
            "\n",
            "1<------------>1\n",
            "\n",
            "1 - Mão esquerda a mão esquerda\n",
            "2 - Mão esquerda a mão direita\n",
            "3 - Mão direita a mão esquerda\n",
            "4 - Mão direita a mão direita\n",
            "Escolha um: 1\n",
            "Escolha um: 1\n",
            "\n",
            "1<------------>1\n",
            "\n",
            "2<------------>1\n",
            "\n",
            "1 - Mão esquerda a mão esquerda\n",
            "2 - Mão esquerda a mão direita\n",
            "3 - Mão direita a mão esquerda\n",
            "4 - Mão direita a mão direita\n",
            "\n",
            "1<------------>2\n",
            "\n",
            "3<------------>1\n",
            "\n",
            "1 - Mão esquerda a mão esquerda\n",
            "2 - Mão esquerda a mão direita\n",
            "3 - Mão direita a mão esquerda\n",
            "4 - Mão direita a mão direita\n"
          ]
        },
        {
          "output_type": "error",
          "ename": "KeyboardInterrupt",
          "evalue": "ignored",
          "traceback": [
            "\u001b[0;31m---------------------------------------------------------------------------\u001b[0m",
            "\u001b[0;31mKeyboardInterrupt\u001b[0m                         Traceback (most recent call last)",
            "\u001b[0;32m<ipython-input-11-9c8283b23a1d>\u001b[0m in \u001b[0;36m<module>\u001b[0;34m\u001b[0m\n\u001b[1;32m     94\u001b[0m \u001b[0mtestGame\u001b[0m \u001b[0;34m=\u001b[0m \u001b[0mGame\u001b[0m\u001b[0;34m(\u001b[0m\u001b[0mPlayer\u001b[0m\u001b[0;34m(\u001b[0m\u001b[0;34m)\u001b[0m\u001b[0;34m,\u001b[0m \u001b[0mPlayer\u001b[0m\u001b[0;34m(\u001b[0m\u001b[0;34m)\u001b[0m\u001b[0;34m)\u001b[0m\u001b[0;34m\u001b[0m\u001b[0;34m\u001b[0m\u001b[0m\n\u001b[1;32m     95\u001b[0m \u001b[0;34m\u001b[0m\u001b[0m\n\u001b[0;32m---> 96\u001b[0;31m \u001b[0mtestGame\u001b[0m\u001b[0;34m.\u001b[0m\u001b[0mstartGame\u001b[0m\u001b[0;34m(\u001b[0m\u001b[0;34m)\u001b[0m\u001b[0;34m\u001b[0m\u001b[0;34m\u001b[0m\u001b[0m\n\u001b[0m\u001b[1;32m     97\u001b[0m \u001b[0;34m\u001b[0m\u001b[0m\n\u001b[1;32m     98\u001b[0m \u001b[0mprint\u001b[0m\u001b[0;34m(\u001b[0m\u001b[0mtestGame\u001b[0m\u001b[0;34m.\u001b[0m\u001b[0mreturnWinner\u001b[0m\u001b[0;34m(\u001b[0m\u001b[0;34m)\u001b[0m\u001b[0;34m)\u001b[0m\u001b[0;34m\u001b[0m\u001b[0;34m\u001b[0m\u001b[0m\n",
            "\u001b[0;32m<ipython-input-11-9c8283b23a1d>\u001b[0m in \u001b[0;36mstartGame\u001b[0;34m(self)\u001b[0m\n\u001b[1;32m     32\u001b[0m \u001b[0;34m\u001b[0m\u001b[0m\n\u001b[1;32m     33\u001b[0m       \u001b[0mos\u001b[0m\u001b[0;34m.\u001b[0m\u001b[0msystem\u001b[0m\u001b[0;34m(\u001b[0m\u001b[0;34m'clear'\u001b[0m\u001b[0;34m)\u001b[0m\u001b[0;34m\u001b[0m\u001b[0;34m\u001b[0m\u001b[0m\n\u001b[0;32m---> 34\u001b[0;31m       \u001b[0mself\u001b[0m\u001b[0;34m.\u001b[0m\u001b[0m_possibleMoves\u001b[0m\u001b[0;34m(\u001b[0m\u001b[0mself\u001b[0m\u001b[0;34m.\u001b[0m\u001b[0m_playerOne\u001b[0m\u001b[0;34m,\u001b[0m \u001b[0mself\u001b[0m\u001b[0;34m.\u001b[0m\u001b[0m_playerTwo\u001b[0m\u001b[0;34m)\u001b[0m\u001b[0;34m\u001b[0m\u001b[0;34m\u001b[0m\u001b[0m\n\u001b[0m\u001b[1;32m     35\u001b[0m \u001b[0;34m\u001b[0m\u001b[0m\n\u001b[1;32m     36\u001b[0m       \u001b[0mself\u001b[0m\u001b[0;34m.\u001b[0m\u001b[0m_possibleMoves\u001b[0m\u001b[0;34m(\u001b[0m\u001b[0mself\u001b[0m\u001b[0;34m.\u001b[0m\u001b[0m_playerTwo\u001b[0m\u001b[0;34m,\u001b[0m \u001b[0mself\u001b[0m\u001b[0;34m.\u001b[0m\u001b[0m_playerOne\u001b[0m\u001b[0;34m)\u001b[0m\u001b[0;34m\u001b[0m\u001b[0;34m\u001b[0m\u001b[0m\n",
            "\u001b[0;32m<ipython-input-11-9c8283b23a1d>\u001b[0m in \u001b[0;36m_possibleMoves\u001b[0;34m(self, player, challenger)\u001b[0m\n\u001b[1;32m     83\u001b[0m           \u001b[0mprint\u001b[0m\u001b[0;34m(\u001b[0m\u001b[0mstr\u001b[0m\u001b[0;34m(\u001b[0m\u001b[0mi\u001b[0m \u001b[0;34m+\u001b[0m \u001b[0;36m1\u001b[0m\u001b[0;34m)\u001b[0m \u001b[0;34m+\u001b[0m \u001b[0;34m\" - \"\u001b[0m \u001b[0;34m+\u001b[0m \u001b[0mpossibilities\u001b[0m\u001b[0;34m[\u001b[0m\u001b[0mi\u001b[0m\u001b[0;34m]\u001b[0m\u001b[0;34m[\u001b[0m\u001b[0;36m0\u001b[0m\u001b[0;34m]\u001b[0m\u001b[0;34m)\u001b[0m\u001b[0;34m\u001b[0m\u001b[0;34m\u001b[0m\u001b[0m\n\u001b[1;32m     84\u001b[0m \u001b[0;34m\u001b[0m\u001b[0m\n\u001b[0;32m---> 85\u001b[0;31m         \u001b[0mchoose\u001b[0m \u001b[0;34m=\u001b[0m \u001b[0mint\u001b[0m\u001b[0;34m(\u001b[0m\u001b[0minput\u001b[0m\u001b[0;34m(\u001b[0m\u001b[0;34m\"Escolha um: \"\u001b[0m\u001b[0;34m)\u001b[0m\u001b[0;34m)\u001b[0m\u001b[0;34m\u001b[0m\u001b[0;34m\u001b[0m\u001b[0m\n\u001b[0m\u001b[1;32m     86\u001b[0m \u001b[0;34m\u001b[0m\u001b[0m\n\u001b[1;32m     87\u001b[0m         \u001b[0;32mif\u001b[0m \u001b[0mchoose\u001b[0m \u001b[0;34m>\u001b[0m \u001b[0;36m0\u001b[0m \u001b[0;32mand\u001b[0m \u001b[0mchoose\u001b[0m \u001b[0;34m<\u001b[0m \u001b[0mlen\u001b[0m\u001b[0;34m(\u001b[0m\u001b[0mpossibilities\u001b[0m\u001b[0;34m)\u001b[0m \u001b[0;34m+\u001b[0m \u001b[0;36m1\u001b[0m\u001b[0;34m:\u001b[0m\u001b[0;34m\u001b[0m\u001b[0;34m\u001b[0m\u001b[0m\n",
            "\u001b[0;32m/usr/local/lib/python3.7/dist-packages/ipykernel/kernelbase.py\u001b[0m in \u001b[0;36mraw_input\u001b[0;34m(self, prompt)\u001b[0m\n\u001b[1;32m    861\u001b[0m             \u001b[0mself\u001b[0m\u001b[0;34m.\u001b[0m\u001b[0m_parent_ident\u001b[0m\u001b[0;34m,\u001b[0m\u001b[0;34m\u001b[0m\u001b[0;34m\u001b[0m\u001b[0m\n\u001b[1;32m    862\u001b[0m             \u001b[0mself\u001b[0m\u001b[0;34m.\u001b[0m\u001b[0m_parent_header\u001b[0m\u001b[0;34m,\u001b[0m\u001b[0;34m\u001b[0m\u001b[0;34m\u001b[0m\u001b[0m\n\u001b[0;32m--> 863\u001b[0;31m             \u001b[0mpassword\u001b[0m\u001b[0;34m=\u001b[0m\u001b[0;32mFalse\u001b[0m\u001b[0;34m,\u001b[0m\u001b[0;34m\u001b[0m\u001b[0;34m\u001b[0m\u001b[0m\n\u001b[0m\u001b[1;32m    864\u001b[0m         )\n\u001b[1;32m    865\u001b[0m \u001b[0;34m\u001b[0m\u001b[0m\n",
            "\u001b[0;32m/usr/local/lib/python3.7/dist-packages/ipykernel/kernelbase.py\u001b[0m in \u001b[0;36m_input_request\u001b[0;34m(self, prompt, ident, parent, password)\u001b[0m\n\u001b[1;32m    902\u001b[0m             \u001b[0;32mexcept\u001b[0m \u001b[0mKeyboardInterrupt\u001b[0m\u001b[0;34m:\u001b[0m\u001b[0;34m\u001b[0m\u001b[0;34m\u001b[0m\u001b[0m\n\u001b[1;32m    903\u001b[0m                 \u001b[0;31m# re-raise KeyboardInterrupt, to truncate traceback\u001b[0m\u001b[0;34m\u001b[0m\u001b[0;34m\u001b[0m\u001b[0;34m\u001b[0m\u001b[0m\n\u001b[0;32m--> 904\u001b[0;31m                 \u001b[0;32mraise\u001b[0m \u001b[0mKeyboardInterrupt\u001b[0m\u001b[0;34m(\u001b[0m\u001b[0;34m\"Interrupted by user\"\u001b[0m\u001b[0;34m)\u001b[0m \u001b[0;32mfrom\u001b[0m \u001b[0;32mNone\u001b[0m\u001b[0;34m\u001b[0m\u001b[0;34m\u001b[0m\u001b[0m\n\u001b[0m\u001b[1;32m    905\u001b[0m             \u001b[0;32mexcept\u001b[0m \u001b[0mException\u001b[0m \u001b[0;32mas\u001b[0m \u001b[0me\u001b[0m\u001b[0;34m:\u001b[0m\u001b[0;34m\u001b[0m\u001b[0;34m\u001b[0m\u001b[0m\n\u001b[1;32m    906\u001b[0m                 \u001b[0mself\u001b[0m\u001b[0;34m.\u001b[0m\u001b[0mlog\u001b[0m\u001b[0;34m.\u001b[0m\u001b[0mwarning\u001b[0m\u001b[0;34m(\u001b[0m\u001b[0;34m\"Invalid Message:\"\u001b[0m\u001b[0;34m,\u001b[0m \u001b[0mexc_info\u001b[0m\u001b[0;34m=\u001b[0m\u001b[0;32mTrue\u001b[0m\u001b[0;34m)\u001b[0m\u001b[0;34m\u001b[0m\u001b[0;34m\u001b[0m\u001b[0m\n",
            "\u001b[0;31mKeyboardInterrupt\u001b[0m: Interrupted by user"
          ]
        }
      ],
      "source": [
        "class Game(object):\n",
        "  def __init__(self, playerOne: Player, playerTwo: Player):\n",
        "    self._playerOne = playerOne\n",
        "    self._playerTwo = playerTwo\n",
        "    self.__maxRounds = 20\n",
        "    self.__gameFinished = False\n",
        "    self.__round = 1\n",
        "\n",
        "  def _finishGame(self):\n",
        "    if self._playerOne._statusFromHands() == StatusHands.LOST:\n",
        "      self.__gameFinished = True\n",
        "    elif self._playerTwo._statusFromHands() == StatusHands.LOST:\n",
        "      self.__gameFinished = True\n",
        "    elif self.__maxRounds == self.__round:\n",
        "      self.__gameFinished = True\n",
        "  \n",
        "  def returnWinner(self):\n",
        "    if self._playerOne._statusFromHands() == StatusHands.LOST:\n",
        "      return self._playerTwo\n",
        "    elif self._playerTwo._statusFromHands() == StatusHands.LOST:\n",
        "      return self._playerOne\n",
        "    return None\n",
        "\n",
        "  def _showHands(self, player: Player, challenger: Player):\n",
        "    print(\"\\n\" + str(challenger._rightHand._fingers), end=\"\") \n",
        "    print(\"<------------>\" + str(challenger._leftHand._fingers),)\n",
        "    print(\"\\n\" + str(player._leftHand._fingers), end=\"\")\n",
        "    print(\"<------------>\" + str(player._rightHand._fingers), end=\"\\n\\n\")\n",
        "\n",
        "  def startGame(self):\n",
        "    while not self.__gameFinished:\n",
        "      \n",
        "      self._possibleMoves(self._playerOne, self._playerTwo)\n",
        "\n",
        "      self._possibleMoves(self._playerTwo, self._playerOne)\n",
        "\n",
        "      # print(self.__round)\n",
        "      self.__round += 1\n",
        "\n",
        "  def _possibleMoves(self,player: Player, challenger: Player):\n",
        "    self._finishGame()\n",
        "    while True and not(self.__gameFinished):\n",
        "      possibilities = []\n",
        "\n",
        "      # Uso da mão esquerda\n",
        "      if player._leftHand._canUseHand():\n",
        "        if challenger._leftHand._canUseHand():\n",
        "          possibilities.append((\"Mão esquerda a mão esquerda\",\n",
        "                                  Action(ActionType.PLACE, player._leftHand,\n",
        "                                          challenger._leftHand)))\n",
        "          \n",
        "        if challenger._rightHand._canUseHand():\n",
        "          possibilities.append((\"Mão esquerda a mão direita\",\n",
        "                                  Action(ActionType.PLACE, player._leftHand,\n",
        "                                          challenger._rightHand)))\n",
        "      \n",
        "      # Uso da mão direita\n",
        "      if player._rightHand._canUseHand():\n",
        "        if challenger._leftHand._canUseHand():\n",
        "          possibilities.append((\"Mão direita a mão esquerda\",\n",
        "                                  Action(ActionType.PLACE, player._rightHand,\n",
        "                                          challenger._leftHand)))\n",
        "          \n",
        "        if challenger._rightHand._canUseHand():\n",
        "          possibilities.append((\"Mão direita a mão direita\",\n",
        "                                  Action(ActionType.PLACE, player._rightHand,\n",
        "                                          challenger._rightHand)))\n",
        "          \n",
        "      # Dividir o valor entre as mãos\n",
        "      canSplit = player._canSplit()\n",
        "      if canSplit and player._leftHand._canUseHand():\n",
        "        possibilities.append((\"Dividir\",\n",
        "                                  Action(ActionType.SPLIT, player._leftHand,\n",
        "                                          player._rightHand)))\n",
        "      elif canSplit and player._rightHand._canUseHand():\n",
        "        possibilities.append((\"Dividir\",\n",
        "                                  Action(ActionType.SPLIT, player._rightHand,\n",
        "                                          player._leftHand)))\n",
        "      while True:\n",
        "        self._showHands(player, challenger)\n",
        "        for i in range(len(possibilities)):\n",
        "          print(str(i + 1) + \" - \" + possibilities[i][0])\n",
        "\n",
        "        choose = int(input(\"Escolha um: \"))\n",
        "\n",
        "        if choose > 0 and choose < len(possibilities) + 1:\n",
        "          break\n",
        "      \n",
        "      player._putOnHand(possibilities[choose - 1][1])\n",
        "\n",
        "      break\n",
        "\n",
        "testGame = Game(Player(), Player())\n",
        "\n",
        "testGame.startGame()\n",
        "\n",
        "print(testGame.returnWinner())\n",
        "\n",
        "# Alphabeta prunum\n",
        "# Poda alfa beta\n",
        "# SBGames"
      ]
    }
  ]
}