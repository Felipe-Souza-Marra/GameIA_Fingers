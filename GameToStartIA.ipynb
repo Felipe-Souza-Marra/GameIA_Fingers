{
  "nbformat": 4,
  "nbformat_minor": 0,
  "metadata": {
    "colab": {
      "provenance": [],
      "collapsed_sections": [],
      "authorship_tag": "ABX9TyMU6jaaweBT/gQnH8MfTuhx",
      "include_colab_link": true
    },
    "kernelspec": {
      "name": "python3",
      "display_name": "Python 3"
    },
    "language_info": {
      "name": "python"
    }
  },
  "cells": [
    {
      "cell_type": "markdown",
      "metadata": {
        "id": "view-in-github",
        "colab_type": "text"
      },
      "source": [
        "<a href=\"https://colab.research.google.com/github/Felipe-Souza-Marra/GameIA_Fingers/blob/main/GameToStartIA.ipynb\" target=\"_parent\"><img src=\"https://colab.research.google.com/assets/colab-badge.svg\" alt=\"Open In Colab\"/></a>"
      ]
    },
    {
      "cell_type": "markdown",
      "source": [
        "# Ten fingers"
      ],
      "metadata": {
        "id": "MmLWuPQL4QeO"
      }
    },
    {
      "cell_type": "code",
      "source": [
        "# From\n",
        "from enum import Enum\n",
        "\n",
        "# Import\n",
        "import numpy as np"
      ],
      "metadata": {
        "id": "gxAV33hoUgM3"
      },
      "execution_count": null,
      "outputs": []
    },
    {
      "cell_type": "code",
      "source": [
        "class HandType(Enum):\n",
        "  Right = \"right\"\n",
        "  Left = \"left\" \n",
        "\n",
        "class ActionType(Enum):\n",
        "  Place = \"place\"\n",
        "  Split = \"split\""
      ],
      "metadata": {
        "id": "A6Kox0wHP7l5"
      },
      "execution_count": null,
      "outputs": []
    },
    {
      "cell_type": "code",
      "source": [
        "class Hand(object):\n",
        "  def __init__(self, handType: HandType, fingers: int = 1):\n",
        "    self.__fingers = fingers\n",
        "    self.__HandType = handType\n",
        "\n",
        "  @property\n",
        "  def __fingers(self):\n",
        "    return self._fingers\n",
        "\n",
        "  @__fingers.setter\n",
        "  def __fingers(self, value: int):\n",
        "    if self.__fingers >= 5:\n",
        "      self.__fingers -= 5\n",
        "\n",
        "  def _canUseHand(self):\n",
        "    if self._fingers == 0:\n",
        "      return False\n",
        "    return True\n",
        "    "
      ],
      "metadata": {
        "id": "EFtMzn1SFYq4"
      },
      "execution_count": null,
      "outputs": []
    },
    {
      "cell_type": "code",
      "source": [
        "class Action(object):\n",
        "  def __init__(self, action: ActionType, fromHand: Hand, toHand: Hand):\n",
        "    self.__actionType = action\n",
        "    self.__fromHand = fromHand\n",
        "    self.__toHand = toHand\n",
        "\n",
        "  def _realize():\n",
        "    "
      ],
      "metadata": {
        "id": "xf0hUAtrYiLM"
      },
      "execution_count": null,
      "outputs": []
    },
    {
      "cell_type": "code",
      "source": [
        "class Player(object):\n",
        "  def __init__(self):\n",
        "    self.__leftHand = Hand(HandType.Left)\n",
        "    self.__rightHand = Hand(HandType.Right)\n",
        "\n",
        "  def _putOnHand(self, action:):\n",
        "    print(\"Opa\")\n"
      ],
      "metadata": {
        "id": "zEqIKKsd7pFw"
      },
      "execution_count": null,
      "outputs": []
    },
    {
      "cell_type": "code",
      "execution_count": null,
      "metadata": {
        "id": "d3ueP8qC2Vbz"
      },
      "outputs": [],
      "source": [
        "class Game(object):\n",
        "  def __init__(self, playerOne: Player, playerTwo: Player):\n",
        "    self.__playerOne = playerOne\n",
        "    self.__playerTwo = playerTwo\n",
        "    self.__maxRounds = 20\n",
        "    self.__round = 1\n",
        "\n",
        "  @property\n",
        "  def __round(self):\n",
        "    return self.__round\n",
        "\n",
        "  @__round.setter\n",
        "  def __round(self):\n",
        "    print(\"Iniciando\")\n",
        "    if self.__round == self.__maxRounds:\n",
        "      self._finishGame()\n",
        "\n",
        "  def _finishGame(self):"
      ]
    },
    {
      "cell_type": "code",
      "source": [
        "! ls -la"
      ],
      "metadata": {
        "colab": {
          "base_uri": "https://localhost:8080/"
        },
        "id": "Xu7dWzpCGiAH",
        "outputId": "0483ff6c-785e-4538-c09a-aaef16550602"
      },
      "execution_count": 3,
      "outputs": [
        {
          "output_type": "stream",
          "name": "stdout",
          "text": [
            "total 16\n",
            "drwxr-xr-x 1 root root 4096 Sep 14 13:44 .\n",
            "drwxr-xr-x 1 root root 4096 Sep 15 16:57 ..\n",
            "drwxr-xr-x 4 root root 4096 Sep 14 13:43 .config\n",
            "drwxr-xr-x 1 root root 4096 Sep 14 13:44 sample_data\n"
          ]
        }
      ]
    },
    {
      "cell_type": "code",
      "source": [
        "hand = Hand()"
      ],
      "metadata": {
        "colab": {
          "base_uri": "https://localhost:8080/"
        },
        "id": "xAS9NUD99Qjl",
        "outputId": "73749cb7-ebf2-4c05-ae89-cfb9b8625487"
      },
      "execution_count": null,
      "outputs": [
        {
          "output_type": "stream",
          "name": "stdout",
          "text": [
            "Opa\n"
          ]
        }
      ]
    }
  ]
}